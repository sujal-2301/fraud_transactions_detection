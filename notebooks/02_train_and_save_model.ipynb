{
 "cells": [
  {
   "cell_type": "markdown",
   "id": "22e49b2b-3de3-45f8-add7-c22c917f91c7",
   "metadata": {},
   "source": [
    "# 02_Train & Save Model\n",
    "\n",
    "This notebook will:\n",
    "\n",
    "1. Load the preprocessed data  \n",
    "2. One-hot encode categorical features  \n",
    "3. Split into training and test sets  \n",
    "4. Train a baseline Logistic Regression model  \n",
    "5. Evaluate performance  \n",
    "6. Save the trained model for the Streamlit app  \n"
   ]
  },
  {
   "cell_type": "code",
   "execution_count": 1,
   "id": "cb587209-6f78-4da8-9eb3-31a5bc11a5f4",
   "metadata": {},
   "outputs": [],
   "source": [
    "import pandas as pd\n",
    "import numpy as np\n",
    "from sklearn.model_selection import train_test_split\n",
    "from sklearn.linear_model import LogisticRegression\n",
    "from sklearn.metrics import classification_report, roc_auc_score, confusion_matrix\n",
    "import joblib\n"
   ]
  },
  {
   "cell_type": "code",
   "execution_count": 2,
   "id": "3297257d-fafa-4b0e-bb1d-721136eb1368",
   "metadata": {},
   "outputs": [
    {
     "name": "stdout",
     "output_type": "stream",
     "text": [
      "Dataset shape after adding age: (1296675, 26)\n",
      "Features to use: ['merchant', 'category', 'gender', 'job', 'state', 'amt', 'city_pop', 'merch_lat', 'merch_long', 'age']\n"
     ]
    },
    {
     "data": {
      "text/html": [
       "<div>\n",
       "<style scoped>\n",
       "    .dataframe tbody tr th:only-of-type {\n",
       "        vertical-align: middle;\n",
       "    }\n",
       "\n",
       "    .dataframe tbody tr th {\n",
       "        vertical-align: top;\n",
       "    }\n",
       "\n",
       "    .dataframe thead th {\n",
       "        text-align: right;\n",
       "    }\n",
       "</style>\n",
       "<table border=\"1\" class=\"dataframe\">\n",
       "  <thead>\n",
       "    <tr style=\"text-align: right;\">\n",
       "      <th></th>\n",
       "      <th>merchant</th>\n",
       "      <th>category</th>\n",
       "      <th>gender</th>\n",
       "      <th>job</th>\n",
       "      <th>state</th>\n",
       "      <th>amt</th>\n",
       "      <th>city_pop</th>\n",
       "      <th>merch_lat</th>\n",
       "      <th>merch_long</th>\n",
       "      <th>age</th>\n",
       "      <th>is_fraud</th>\n",
       "    </tr>\n",
       "  </thead>\n",
       "  <tbody>\n",
       "    <tr>\n",
       "      <th>0</th>\n",
       "      <td>fraud_Rippin, Kub and Mann</td>\n",
       "      <td>misc_net</td>\n",
       "      <td>F</td>\n",
       "      <td>Psychologist, counselling</td>\n",
       "      <td>NC</td>\n",
       "      <td>4.97</td>\n",
       "      <td>3495</td>\n",
       "      <td>36.011293</td>\n",
       "      <td>-82.048315</td>\n",
       "      <td>30</td>\n",
       "      <td>0</td>\n",
       "    </tr>\n",
       "    <tr>\n",
       "      <th>1</th>\n",
       "      <td>fraud_Heller, Gutmann and Zieme</td>\n",
       "      <td>grocery_pos</td>\n",
       "      <td>F</td>\n",
       "      <td>Special educational needs teacher</td>\n",
       "      <td>WA</td>\n",
       "      <td>107.23</td>\n",
       "      <td>149</td>\n",
       "      <td>49.159047</td>\n",
       "      <td>-118.186462</td>\n",
       "      <td>40</td>\n",
       "      <td>0</td>\n",
       "    </tr>\n",
       "    <tr>\n",
       "      <th>2</th>\n",
       "      <td>fraud_Lind-Buckridge</td>\n",
       "      <td>entertainment</td>\n",
       "      <td>M</td>\n",
       "      <td>Nature conservation officer</td>\n",
       "      <td>ID</td>\n",
       "      <td>220.11</td>\n",
       "      <td>4154</td>\n",
       "      <td>43.150704</td>\n",
       "      <td>-112.154481</td>\n",
       "      <td>56</td>\n",
       "      <td>0</td>\n",
       "    </tr>\n",
       "  </tbody>\n",
       "</table>\n",
       "</div>"
      ],
      "text/plain": [
       "                          merchant       category gender  \\\n",
       "0       fraud_Rippin, Kub and Mann       misc_net      F   \n",
       "1  fraud_Heller, Gutmann and Zieme    grocery_pos      F   \n",
       "2             fraud_Lind-Buckridge  entertainment      M   \n",
       "\n",
       "                                 job state     amt  city_pop  merch_lat  \\\n",
       "0          Psychologist, counselling    NC    4.97      3495  36.011293   \n",
       "1  Special educational needs teacher    WA  107.23       149  49.159047   \n",
       "2        Nature conservation officer    ID  220.11      4154  43.150704   \n",
       "\n",
       "   merch_long  age  is_fraud  \n",
       "0  -82.048315   30         0  \n",
       "1 -118.186462   40         0  \n",
       "2 -112.154481   56         0  "
      ]
     },
     "execution_count": 2,
     "metadata": {},
     "output_type": "execute_result"
    }
   ],
   "source": [
    "# Adjust the path if needed\n",
    "df = pd.read_csv(\"../data/credit_card_transactions.csv\")\n",
    "\n",
    "# Drop index column if present\n",
    "if \"Unnamed: 0\" in df.columns:\n",
    "    df = df.drop(\"Unnamed: 0\", axis=1)\n",
    "\n",
    "df[\"trans_dt\"] = pd.to_datetime(df[\"trans_date_trans_time\"])\n",
    "df[\"dob_dt\"]   = pd.to_datetime(df[\"dob\"])\n",
    "\n",
    "# Compute age (in years) at transaction time\n",
    "df[\"age\"] = (df[\"trans_dt\"] - df[\"dob_dt\"]).dt.days // 365\n",
    "\n",
    "\n",
    "# Now define our feature list, including age\n",
    "FEATURES = [\n",
    "    \"merchant\",    # categorical\n",
    "    \"category\",    # categorical\n",
    "    \"gender\",      # categorical\n",
    "    \"job\",         # categorical\n",
    "    \"state\",       # categorical\n",
    "    # numeric:\n",
    "    \"amt\",\n",
    "    \"city_pop\",\n",
    "    \"merch_lat\",\n",
    "    \"merch_long\",\n",
    "    \"age\"          # newly engineered\n",
    "]\n",
    "TARGET = \"is_fraud\"\n",
    "\n",
    "print(\"Dataset shape after adding age:\", df.shape)\n",
    "print(\"Features to use:\", FEATURES)\n",
    "df[FEATURES + [TARGET]].head(3)"
   ]
  },
  {
   "cell_type": "code",
   "execution_count": 3,
   "id": "672b0216-5a4d-4839-8030-c5a7fa4ec4be",
   "metadata": {},
   "outputs": [
    {
     "name": "stdout",
     "output_type": "stream",
     "text": [
      "X shape: (1296675, 10)\n"
     ]
    },
    {
     "data": {
      "text/html": [
       "<div>\n",
       "<style scoped>\n",
       "    .dataframe tbody tr th:only-of-type {\n",
       "        vertical-align: middle;\n",
       "    }\n",
       "\n",
       "    .dataframe tbody tr th {\n",
       "        vertical-align: top;\n",
       "    }\n",
       "\n",
       "    .dataframe thead th {\n",
       "        text-align: right;\n",
       "    }\n",
       "</style>\n",
       "<table border=\"1\" class=\"dataframe\">\n",
       "  <thead>\n",
       "    <tr style=\"text-align: right;\">\n",
       "      <th></th>\n",
       "      <th>merchant</th>\n",
       "      <th>category</th>\n",
       "      <th>gender</th>\n",
       "      <th>job</th>\n",
       "      <th>state</th>\n",
       "      <th>amt</th>\n",
       "      <th>city_pop</th>\n",
       "      <th>merch_lat</th>\n",
       "      <th>merch_long</th>\n",
       "      <th>age</th>\n",
       "    </tr>\n",
       "  </thead>\n",
       "  <tbody>\n",
       "    <tr>\n",
       "      <th>0</th>\n",
       "      <td>514</td>\n",
       "      <td>8</td>\n",
       "      <td>0</td>\n",
       "      <td>370</td>\n",
       "      <td>27</td>\n",
       "      <td>4.97</td>\n",
       "      <td>3495</td>\n",
       "      <td>36.011293</td>\n",
       "      <td>-82.048315</td>\n",
       "      <td>30</td>\n",
       "    </tr>\n",
       "    <tr>\n",
       "      <th>1</th>\n",
       "      <td>241</td>\n",
       "      <td>4</td>\n",
       "      <td>0</td>\n",
       "      <td>428</td>\n",
       "      <td>47</td>\n",
       "      <td>107.23</td>\n",
       "      <td>149</td>\n",
       "      <td>49.159047</td>\n",
       "      <td>-118.186462</td>\n",
       "      <td>40</td>\n",
       "    </tr>\n",
       "    <tr>\n",
       "      <th>2</th>\n",
       "      <td>390</td>\n",
       "      <td>0</td>\n",
       "      <td>1</td>\n",
       "      <td>307</td>\n",
       "      <td>13</td>\n",
       "      <td>220.11</td>\n",
       "      <td>4154</td>\n",
       "      <td>43.150704</td>\n",
       "      <td>-112.154481</td>\n",
       "      <td>56</td>\n",
       "    </tr>\n",
       "    <tr>\n",
       "      <th>3</th>\n",
       "      <td>360</td>\n",
       "      <td>2</td>\n",
       "      <td>1</td>\n",
       "      <td>328</td>\n",
       "      <td>26</td>\n",
       "      <td>45.00</td>\n",
       "      <td>1939</td>\n",
       "      <td>47.034331</td>\n",
       "      <td>-112.561071</td>\n",
       "      <td>52</td>\n",
       "    </tr>\n",
       "    <tr>\n",
       "      <th>4</th>\n",
       "      <td>297</td>\n",
       "      <td>9</td>\n",
       "      <td>1</td>\n",
       "      <td>116</td>\n",
       "      <td>45</td>\n",
       "      <td>41.96</td>\n",
       "      <td>99</td>\n",
       "      <td>38.674999</td>\n",
       "      <td>-78.632459</td>\n",
       "      <td>32</td>\n",
       "    </tr>\n",
       "  </tbody>\n",
       "</table>\n",
       "</div>"
      ],
      "text/plain": [
       "   merchant  category  gender  job  state     amt  city_pop  merch_lat  \\\n",
       "0       514         8       0  370     27    4.97      3495  36.011293   \n",
       "1       241         4       0  428     47  107.23       149  49.159047   \n",
       "2       390         0       1  307     13  220.11      4154  43.150704   \n",
       "3       360         2       1  328     26   45.00      1939  47.034331   \n",
       "4       297         9       1  116     45   41.96        99  38.674999   \n",
       "\n",
       "   merch_long  age  \n",
       "0  -82.048315   30  \n",
       "1 -118.186462   40  \n",
       "2 -112.154481   56  \n",
       "3 -112.561071   52  \n",
       "4  -78.632459   32  "
      ]
     },
     "execution_count": 3,
     "metadata": {},
     "output_type": "execute_result"
    }
   ],
   "source": [
    "# 1. Integer‐encode categoricals\n",
    "cat_cols = [\"merchant\",\"category\",\"gender\",\"job\",\"state\"]\n",
    "for c in cat_cols:\n",
    "    df[c] = df[c].astype(\"category\").cat.codes\n",
    "\n",
    "# 2. Select numeric + encoded\n",
    "feature_cols = cat_cols + [\"amt\",\"city_pop\",\"merch_lat\",\"merch_long\",\"age\"]\n",
    "X = df[feature_cols]\n",
    "y = df[\"is_fraud\"]\n",
    "\n",
    "print(\"X shape:\", X.shape)\n",
    "X.head()\n"
   ]
  },
  {
   "cell_type": "code",
   "execution_count": 4,
   "id": "40d863d4-3198-465e-bc4b-8b3abaf89398",
   "metadata": {},
   "outputs": [
    {
     "name": "stdout",
     "output_type": "stream",
     "text": [
      "X_train: (1037340, 10), positives: 6005\n",
      "X_test : (259335, 10), positives: 1501\n"
     ]
    }
   ],
   "source": [
    "from sklearn.model_selection import train_test_split\n",
    "\n",
    "# Split 80/20, preserving class balance\n",
    "X_train, X_test, y_train, y_test = train_test_split(\n",
    "    X, y,\n",
    "    test_size=0.2,\n",
    "    random_state=42,\n",
    "    stratify=y\n",
    ")\n",
    "\n",
    "print(f\"X_train: {X_train.shape}, positives: {y_train.sum()}\")\n",
    "print(f\"X_test : {X_test.shape}, positives: {y_test.sum()}\")\n"
   ]
  },
  {
   "cell_type": "code",
   "execution_count": 5,
   "id": "fe4b47f8-408b-458e-a9e0-0ec036948221",
   "metadata": {},
   "outputs": [
    {
     "name": "stdout",
     "output_type": "stream",
     "text": [
      "✓ Features scaled.\n"
     ]
    }
   ],
   "source": [
    "from sklearn.preprocessing import StandardScaler\n",
    "\n",
    "# 1. Instantiate & fit scaler on train set\n",
    "scaler = StandardScaler()\n",
    "X_train_scaled = scaler.fit_transform(X_train)\n",
    "X_test_scaled  = scaler.transform(X_test)\n",
    "\n",
    "print(\"✓ Features scaled.\")\n",
    "\n",
    "\n"
   ]
  },
  {
   "cell_type": "code",
   "execution_count": 6,
   "id": "116e6708-7caf-4b15-9f04-e5a82e28ba43",
   "metadata": {},
   "outputs": [
    {
     "name": "stdout",
     "output_type": "stream",
     "text": [
      "✅ Scaled model training complete.\n"
     ]
    }
   ],
   "source": [
    "from sklearn.linear_model import LogisticRegression\n",
    "model = LogisticRegression(\n",
    "    solver=\"saga\",           # saga handles large data well\n",
    "    max_iter=500,            # fewer iterations needed once scaled\n",
    "    class_weight=\"balanced\"\n",
    ")\n",
    "model.fit(X_train_scaled, y_train)\n",
    "print(\"✅ Scaled model training complete.\")"
   ]
  },
  {
   "cell_type": "code",
   "execution_count": 7,
   "id": "15762c18-7d6a-43e5-a443-b5c4c4463e91",
   "metadata": {},
   "outputs": [
    {
     "name": "stdout",
     "output_type": "stream",
     "text": [
      "Classification Report:\n",
      "               precision    recall  f1-score   support\n",
      "\n",
      "           0       1.00      0.95      0.97    257834\n",
      "           1       0.08      0.76      0.15      1501\n",
      "\n",
      "    accuracy                           0.95    259335\n",
      "   macro avg       0.54      0.86      0.56    259335\n",
      "weighted avg       0.99      0.95      0.97    259335\n",
      "\n",
      "ROC AUC: 0.8550904137759295\n",
      "Confusion Matrix:\n",
      " [[244969  12865]\n",
      " [   357   1144]]\n"
     ]
    }
   ],
   "source": [
    "from sklearn.metrics import classification_report, roc_auc_score, confusion_matrix\n",
    "\n",
    "# Predict on test set\n",
    "y_pred  = model.predict(X_test_scaled)\n",
    "y_proba = model.predict_proba(X_test_scaled)[:,1]\n",
    "\n",
    "# 1. Detailed metrics\n",
    "print(\"Classification Report:\\n\", classification_report(y_test, y_pred))\n",
    "\n",
    "# 2. ROC AUC\n",
    "print(\"ROC AUC:\", roc_auc_score(y_test, y_proba))\n",
    "\n",
    "# 3. Confusion Matrix\n",
    "cm = confusion_matrix(y_test, y_pred)\n",
    "print(\"Confusion Matrix:\\n\", cm)\n"
   ]
  },
  {
   "cell_type": "code",
   "execution_count": 8,
   "id": "91911b9c-c0d6-48c2-b982-fcd5cdc811a9",
   "metadata": {},
   "outputs": [
    {
     "name": "stdout",
     "output_type": "stream",
     "text": [
      "Before SMOTE: {0: 1031335, 1: 6005}\n",
      " After SMOTE: {0: 1031335, 1: 1031335}\n"
     ]
    }
   ],
   "source": [
    "from imblearn.over_sampling import SMOTE\n",
    "\n",
    "# 1. Instantiate SMOTE\n",
    "smote = SMOTE(random_state=42)\n",
    "\n",
    "# 2. Fit on X_train, y_train → get balanced X_res, y_res\n",
    "X_res, y_res = smote.fit_resample(X_train, y_train)\n",
    "\n",
    "print(\"Before SMOTE:\", y_train.value_counts().to_dict())\n",
    "print(\" After SMOTE:\", y_res.value_counts().to_dict())\n"
   ]
  },
  {
   "cell_type": "code",
   "execution_count": 9,
   "id": "408f344a-6adb-4d30-80eb-0266b9305d06",
   "metadata": {},
   "outputs": [
    {
     "name": "stdout",
     "output_type": "stream",
     "text": [
      "✅ SMOTE-LR training complete.\n"
     ]
    },
    {
     "name": "stderr",
     "output_type": "stream",
     "text": [
      "/Users/sujal/.pyenv/versions/3.13.1/lib/python3.13/site-packages/sklearn/linear_model/_sag.py:348: ConvergenceWarning: The max_iter was reached which means the coef_ did not converge\n",
      "  warnings.warn(\n"
     ]
    }
   ],
   "source": [
    "lr_smote = LogisticRegression(\n",
    "    solver=\"saga\",\n",
    "    max_iter=500,\n",
    "    class_weight=\"balanced\",  # SMOTE has balanced classes already, but it's fine\n",
    "    random_state=42\n",
    ")\n",
    "lr_smote.fit(X_res, y_res)\n",
    "print(\"✅ SMOTE-LR training complete.\")"
   ]
  },
  {
   "cell_type": "code",
   "execution_count": 10,
   "id": "15b64e98-9844-456d-8e94-3007ccc4d6e1",
   "metadata": {},
   "outputs": [
    {
     "name": "stdout",
     "output_type": "stream",
     "text": [
      "SMOTE-LR Classification Report:\n",
      "\n",
      "              precision    recall  f1-score   support\n",
      "\n",
      "           0       1.00      0.92      0.96    257834\n",
      "           1       0.05      0.74      0.10      1501\n",
      "\n",
      "    accuracy                           0.92    259335\n",
      "   macro avg       0.52      0.83      0.53    259335\n",
      "weighted avg       0.99      0.92      0.95    259335\n",
      "\n",
      "SMOTE-LR ROC AUC: 0.8433134242098463\n",
      "SMOTE-LR Confusion Matrix:\n",
      " [[237263  20571]\n",
      " [   393   1108]]\n"
     ]
    }
   ],
   "source": [
    "from sklearn.metrics import classification_report, roc_auc_score, confusion_matrix\n",
    "\n",
    "# Predict on the original (unmodified) test set\n",
    "y_pred_sm = lr_smote.predict(X_test)\n",
    "y_proba_sm = lr_smote.predict_proba(X_test)[:,1]\n",
    "\n",
    "print(\"SMOTE-LR Classification Report:\\n\")\n",
    "print(classification_report(y_test, y_pred_sm))\n",
    "\n",
    "print(\"SMOTE-LR ROC AUC:\", roc_auc_score(y_test, y_proba_sm))\n",
    "\n",
    "cm_sm = confusion_matrix(y_test, y_pred_sm)\n",
    "print(\"SMOTE-LR Confusion Matrix:\\n\", cm_sm)\n"
   ]
  },
  {
   "cell_type": "code",
   "execution_count": 11,
   "id": "e0de3807-4049-499c-b6da-fb5b120b1db1",
   "metadata": {},
   "outputs": [
    {
     "name": "stdout",
     "output_type": "stream",
     "text": [
      "✅ Random Forest training complete.\n"
     ]
    }
   ],
   "source": [
    "from sklearn.ensemble import RandomForestClassifier\n",
    "\n",
    "# 1. Instantiate RF (trees handle unscaled, integer‐encoded features fine)\n",
    "rf = RandomForestClassifier(\n",
    "    n_estimators=100,                    # number of trees\n",
    "    class_weight=\"balanced_subsample\",   # balance each bootstrap sample\n",
    "    random_state=42,\n",
    "    n_jobs=-1                            # use all cores\n",
    ")\n",
    "\n",
    "# 2. Fit on the original (unmodified) training set\n",
    "rf.fit(X_train, y_train)\n",
    "print(\"✅ Random Forest training complete.\")\n"
   ]
  },
  {
   "cell_type": "code",
   "execution_count": 12,
   "id": "9db2b0b4-c87b-4cfc-8021-9a5c78f318c8",
   "metadata": {},
   "outputs": [
    {
     "name": "stdout",
     "output_type": "stream",
     "text": [
      "Random Forest Classification Report:\n",
      "\n",
      "              precision    recall  f1-score   support\n",
      "\n",
      "           0       1.00      1.00      1.00    257834\n",
      "           1       0.88      0.65      0.75      1501\n",
      "\n",
      "    accuracy                           1.00    259335\n",
      "   macro avg       0.94      0.83      0.87    259335\n",
      "weighted avg       1.00      1.00      1.00    259335\n",
      "\n",
      "Random Forest ROC AUC: 0.9714397165414577\n",
      "\n",
      "Random Forest Confusion Matrix:\n",
      " [[257706    128]\n",
      " [   524    977]]\n"
     ]
    }
   ],
   "source": [
    "from sklearn.metrics import classification_report, roc_auc_score, confusion_matrix\n",
    "\n",
    "# 1. Predictions & probabilities on the test set\n",
    "y_pred_rf  = rf.predict(X_test)\n",
    "y_proba_rf = rf.predict_proba(X_test)[:,1]\n",
    "\n",
    "# 2. Metrics\n",
    "print(\"Random Forest Classification Report:\\n\")\n",
    "print(classification_report(y_test, y_pred_rf))\n",
    "\n",
    "print(\"Random Forest ROC AUC:\", roc_auc_score(y_test, y_proba_rf))\n",
    "\n",
    "cm_rf = confusion_matrix(y_test, y_pred_rf)\n",
    "print(\"\\nRandom Forest Confusion Matrix:\\n\", cm_rf)\n"
   ]
  },
  {
   "cell_type": "code",
   "execution_count": 18,
   "id": "c85e6adf-af14-4b38-af2f-76592376567f",
   "metadata": {},
   "outputs": [
    {
     "name": "stdout",
     "output_type": "stream",
     "text": [
      "🔍 Best threshold: 0.28, F1 = 0.774\n"
     ]
    }
   ],
   "source": [
    "import numpy as np\n",
    "import pandas as pd\n",
    "from sklearn.metrics import f1_score, precision_score, recall_score\n",
    "\n",
    "# 1. Choose which model’s probabilities to tune on:\n",
    "probs = y_proba_rf\n",
    "\n",
    "# 2. Define thresholds and lists to collect metrics\n",
    "thresholds = np.linspace(0.1, 0.9, 81)\n",
    "f1_scores    = []\n",
    "precisions   = []\n",
    "recalls      = []\n",
    "\n",
    "# 3. Loop over thresholds\n",
    "for t in thresholds:\n",
    "    preds_t = (probs > t).astype(int)\n",
    "    f1_scores.append(   f1_score(y_test, preds_t)     )\n",
    "    precisions.append(  precision_score(y_test, preds_t)  )\n",
    "    recalls.append(     recall_score(y_test, preds_t)     )\n",
    "\n",
    "# 4. Find best threshold by F1\n",
    "best_idx    = np.argmax(f1_scores)\n",
    "best_thresh = thresholds[best_idx]\n",
    "best_f1     = f1_scores[best_idx]\n",
    "\n",
    "print(f\"🔍 Best threshold: {best_thresh:.2f}, F1 = {best_f1:.3f}\")\n"
   ]
  },
  {
   "cell_type": "code",
   "execution_count": 21,
   "id": "9d15a08a-d81a-48f0-8188-513521424748",
   "metadata": {},
   "outputs": [
    {
     "name": "stdout",
     "output_type": "stream",
     "text": [
      "📊 Classification Report at threshold = 0.28\n",
      "\n",
      "              precision    recall  f1-score   support\n",
      "\n",
      "           0       1.00      1.00      1.00    257834\n",
      "           1       0.78      0.77      0.77      1501\n",
      "\n",
      "    accuracy                           1.00    259335\n",
      "   macro avg       0.89      0.88      0.89    259335\n",
      "weighted avg       1.00      1.00      1.00    259335\n",
      "\n",
      "🧮 Confusion Matrix:\n",
      "[[257512    322]\n",
      " [   351   1150]]\n"
     ]
    }
   ],
   "source": [
    "from sklearn.metrics import classification_report, confusion_matrix\n",
    "\n",
    "# 1. Use  best threshold\n",
    "best_thresh = 0.28\n",
    "\n",
    "# 2. Generate predictions at that threshold\n",
    "y_pred_best = (y_proba_rf > best_thresh).astype(int)\n",
    "\n",
    "# 3. Print the classification report\n",
    "print(f\"📊 Classification Report at threshold = {best_thresh:.2f}\\n\")\n",
    "print(classification_report(y_test, y_pred_best))\n",
    "\n",
    "# 4. Show the confusion matrix\n",
    "print(\"🧮 Confusion Matrix:\")\n",
    "print(confusion_matrix(y_test, y_pred_best))\n"
   ]
  },
  {
   "cell_type": "code",
   "execution_count": 22,
   "id": "6e0e2fef-7082-46d3-9101-5542d7db554c",
   "metadata": {},
   "outputs": [
    {
     "name": "stdout",
     "output_type": "stream",
     "text": [
      "✅ Saved Random Forest model to ../models/rf_fraud_model.pkl\n"
     ]
    }
   ],
   "source": [
    "import os, joblib\n",
    "\n",
    "# 1. Ensure a models/ folder exists alongside your notebook\n",
    "os.makedirs(\"../models\", exist_ok=True)\n",
    "\n",
    "# 2. Dump the RF into a pickle file\n",
    "joblib.dump(rf, \"../models/rf_fraud_model.pkl\")\n",
    "print(\"✅ Saved Random Forest model to ../models/rf_fraud_model.pkl\")\n"
   ]
  },
  {
   "cell_type": "code",
   "execution_count": 23,
   "id": "7f924ec3-12c4-4527-bf42-e6ab32aa1cfe",
   "metadata": {},
   "outputs": [
    {
     "name": "stdout",
     "output_type": "stream",
     "text": [
      "rf_fraud_model.pkl\n"
     ]
    }
   ],
   "source": [
    "!ls ../models\n"
   ]
  },
  {
   "cell_type": "code",
   "execution_count": 26,
   "id": "72d28498-89a6-4181-9c52-5e70068af7f7",
   "metadata": {},
   "outputs": [
    {
     "data": {
      "text/html": [
       "<div>\n",
       "<style scoped>\n",
       "    .dataframe tbody tr th:only-of-type {\n",
       "        vertical-align: middle;\n",
       "    }\n",
       "\n",
       "    .dataframe tbody tr th {\n",
       "        vertical-align: top;\n",
       "    }\n",
       "\n",
       "    .dataframe thead th {\n",
       "        text-align: right;\n",
       "    }\n",
       "</style>\n",
       "<table border=\"1\" class=\"dataframe\">\n",
       "  <thead>\n",
       "    <tr style=\"text-align: right;\">\n",
       "      <th></th>\n",
       "      <th>trans_date_trans_time</th>\n",
       "      <th>cc_num</th>\n",
       "      <th>merchant</th>\n",
       "      <th>category</th>\n",
       "      <th>amt</th>\n",
       "      <th>first</th>\n",
       "      <th>last</th>\n",
       "      <th>gender</th>\n",
       "      <th>street</th>\n",
       "      <th>city</th>\n",
       "      <th>...</th>\n",
       "      <th>dob</th>\n",
       "      <th>trans_num</th>\n",
       "      <th>unix_time</th>\n",
       "      <th>merch_lat</th>\n",
       "      <th>merch_long</th>\n",
       "      <th>is_fraud</th>\n",
       "      <th>merch_zipcode</th>\n",
       "      <th>trans_dt</th>\n",
       "      <th>dob_dt</th>\n",
       "      <th>age</th>\n",
       "    </tr>\n",
       "  </thead>\n",
       "  <tbody>\n",
       "    <tr>\n",
       "      <th>2449</th>\n",
       "      <td>2019-01-02 01:06:37</td>\n",
       "      <td>4613314721966</td>\n",
       "      <td>543</td>\n",
       "      <td>4</td>\n",
       "      <td>281.06</td>\n",
       "      <td>Jason</td>\n",
       "      <td>Murphy</td>\n",
       "      <td>1</td>\n",
       "      <td>542 Steve Curve Suite 011</td>\n",
       "      <td>Collettsville</td>\n",
       "      <td>...</td>\n",
       "      <td>1988-09-15</td>\n",
       "      <td>e8a81877ae9a0a7f883e15cb39dc4022</td>\n",
       "      <td>1325466397</td>\n",
       "      <td>36.430124</td>\n",
       "      <td>-81.179483</td>\n",
       "      <td>1</td>\n",
       "      <td>28644.0</td>\n",
       "      <td>2019-01-02 01:06:37</td>\n",
       "      <td>1988-09-15</td>\n",
       "      <td>30</td>\n",
       "    </tr>\n",
       "    <tr>\n",
       "      <th>2472</th>\n",
       "      <td>2019-01-02 01:47:29</td>\n",
       "      <td>340187018810220</td>\n",
       "      <td>285</td>\n",
       "      <td>2</td>\n",
       "      <td>11.52</td>\n",
       "      <td>Misty</td>\n",
       "      <td>Hart</td>\n",
       "      <td>0</td>\n",
       "      <td>27954 Hall Mill Suite 575</td>\n",
       "      <td>San Antonio</td>\n",
       "      <td>...</td>\n",
       "      <td>1960-10-28</td>\n",
       "      <td>bc7d41c41103877b03232f03f1f8d3f5</td>\n",
       "      <td>1325468849</td>\n",
       "      <td>29.819364</td>\n",
       "      <td>-99.142791</td>\n",
       "      <td>1</td>\n",
       "      <td>78055.0</td>\n",
       "      <td>2019-01-02 01:47:29</td>\n",
       "      <td>1960-10-28</td>\n",
       "      <td>58</td>\n",
       "    </tr>\n",
       "    <tr>\n",
       "      <th>2523</th>\n",
       "      <td>2019-01-02 03:05:23</td>\n",
       "      <td>340187018810220</td>\n",
       "      <td>196</td>\n",
       "      <td>4</td>\n",
       "      <td>276.31</td>\n",
       "      <td>Misty</td>\n",
       "      <td>Hart</td>\n",
       "      <td>0</td>\n",
       "      <td>27954 Hall Mill Suite 575</td>\n",
       "      <td>San Antonio</td>\n",
       "      <td>...</td>\n",
       "      <td>1960-10-28</td>\n",
       "      <td>b98f12f4168391b2203238813df5aa8c</td>\n",
       "      <td>1325473523</td>\n",
       "      <td>29.273085</td>\n",
       "      <td>-98.836360</td>\n",
       "      <td>1</td>\n",
       "      <td>78039.0</td>\n",
       "      <td>2019-01-02 03:05:23</td>\n",
       "      <td>1960-10-28</td>\n",
       "      <td>58</td>\n",
       "    </tr>\n",
       "    <tr>\n",
       "      <th>2546</th>\n",
       "      <td>2019-01-02 03:38:03</td>\n",
       "      <td>4613314721966</td>\n",
       "      <td>162</td>\n",
       "      <td>2</td>\n",
       "      <td>7.03</td>\n",
       "      <td>Jason</td>\n",
       "      <td>Murphy</td>\n",
       "      <td>1</td>\n",
       "      <td>542 Steve Curve Suite 011</td>\n",
       "      <td>Collettsville</td>\n",
       "      <td>...</td>\n",
       "      <td>1988-09-15</td>\n",
       "      <td>397894a5c4c02e3c61c784001f0f14e4</td>\n",
       "      <td>1325475483</td>\n",
       "      <td>35.909292</td>\n",
       "      <td>-82.091010</td>\n",
       "      <td>1</td>\n",
       "      <td>28777.0</td>\n",
       "      <td>2019-01-02 03:38:03</td>\n",
       "      <td>1988-09-15</td>\n",
       "      <td>30</td>\n",
       "    </tr>\n",
       "    <tr>\n",
       "      <th>2553</th>\n",
       "      <td>2019-01-02 03:55:47</td>\n",
       "      <td>340187018810220</td>\n",
       "      <td>328</td>\n",
       "      <td>4</td>\n",
       "      <td>275.73</td>\n",
       "      <td>Misty</td>\n",
       "      <td>Hart</td>\n",
       "      <td>0</td>\n",
       "      <td>27954 Hall Mill Suite 575</td>\n",
       "      <td>San Antonio</td>\n",
       "      <td>...</td>\n",
       "      <td>1960-10-28</td>\n",
       "      <td>7863235a750d73a244c07f1fb7f0185a</td>\n",
       "      <td>1325476547</td>\n",
       "      <td>29.786426</td>\n",
       "      <td>-98.683410</td>\n",
       "      <td>1</td>\n",
       "      <td>78006.0</td>\n",
       "      <td>2019-01-02 03:55:47</td>\n",
       "      <td>1960-10-28</td>\n",
       "      <td>58</td>\n",
       "    </tr>\n",
       "  </tbody>\n",
       "</table>\n",
       "<p>5 rows × 26 columns</p>\n",
       "</div>"
      ],
      "text/plain": [
       "     trans_date_trans_time           cc_num  merchant  category     amt  \\\n",
       "2449   2019-01-02 01:06:37    4613314721966       543         4  281.06   \n",
       "2472   2019-01-02 01:47:29  340187018810220       285         2   11.52   \n",
       "2523   2019-01-02 03:05:23  340187018810220       196         4  276.31   \n",
       "2546   2019-01-02 03:38:03    4613314721966       162         2    7.03   \n",
       "2553   2019-01-02 03:55:47  340187018810220       328         4  275.73   \n",
       "\n",
       "      first    last  gender                     street           city  ...  \\\n",
       "2449  Jason  Murphy       1  542 Steve Curve Suite 011  Collettsville  ...   \n",
       "2472  Misty    Hart       0  27954 Hall Mill Suite 575    San Antonio  ...   \n",
       "2523  Misty    Hart       0  27954 Hall Mill Suite 575    San Antonio  ...   \n",
       "2546  Jason  Murphy       1  542 Steve Curve Suite 011  Collettsville  ...   \n",
       "2553  Misty    Hart       0  27954 Hall Mill Suite 575    San Antonio  ...   \n",
       "\n",
       "             dob                         trans_num   unix_time  merch_lat  \\\n",
       "2449  1988-09-15  e8a81877ae9a0a7f883e15cb39dc4022  1325466397  36.430124   \n",
       "2472  1960-10-28  bc7d41c41103877b03232f03f1f8d3f5  1325468849  29.819364   \n",
       "2523  1960-10-28  b98f12f4168391b2203238813df5aa8c  1325473523  29.273085   \n",
       "2546  1988-09-15  397894a5c4c02e3c61c784001f0f14e4  1325475483  35.909292   \n",
       "2553  1960-10-28  7863235a750d73a244c07f1fb7f0185a  1325476547  29.786426   \n",
       "\n",
       "      merch_long  is_fraud merch_zipcode            trans_dt     dob_dt  age  \n",
       "2449  -81.179483         1       28644.0 2019-01-02 01:06:37 1988-09-15   30  \n",
       "2472  -99.142791         1       78055.0 2019-01-02 01:47:29 1960-10-28   58  \n",
       "2523  -98.836360         1       78039.0 2019-01-02 03:05:23 1960-10-28   58  \n",
       "2546  -82.091010         1       28777.0 2019-01-02 03:38:03 1988-09-15   30  \n",
       "2553  -98.683410         1       78006.0 2019-01-02 03:55:47 1960-10-28   58  \n",
       "\n",
       "[5 rows x 26 columns]"
      ]
     },
     "execution_count": 26,
     "metadata": {},
     "output_type": "execute_result"
    }
   ],
   "source": []
  },
  {
   "cell_type": "code",
   "execution_count": null,
   "id": "c8ef7c56-d54f-4896-b404-7bf7fb17a727",
   "metadata": {},
   "outputs": [],
   "source": []
  }
 ],
 "metadata": {
  "kernelspec": {
   "display_name": "Python 3 (ipykernel)",
   "language": "python",
   "name": "python3"
  },
  "language_info": {
   "codemirror_mode": {
    "name": "ipython",
    "version": 3
   },
   "file_extension": ".py",
   "mimetype": "text/x-python",
   "name": "python",
   "nbconvert_exporter": "python",
   "pygments_lexer": "ipython3",
   "version": "3.13.1"
  }
 },
 "nbformat": 4,
 "nbformat_minor": 5
}
