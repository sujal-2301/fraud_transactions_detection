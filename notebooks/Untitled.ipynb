{
 "cells": [
  {
   "cell_type": "code",
   "execution_count": 5,
   "id": "2f21ea12-5110-457f-9123-d3122cb410eb",
   "metadata": {},
   "outputs": [
    {
     "name": "stdout",
     "output_type": "stream",
     "text": [
      "✅ Saved 7506 fraudulent rows to 'fraudulent_transactions.csv'\n"
     ]
    }
   ],
   "source": [
    "import pandas as pd\n",
    "df = pd.read_csv(\"../data/credit_card_transactions.csv\")\n",
    "\n",
    "# 2. Filter to only the frauds\n",
    "frauds = df[df[\"is_fraud\"] == 1]\n",
    "\n",
    "# 3. Save to a new CSV\n",
    "frauds.to_csv(\"fraudulent_transactions.csv\", index=False)\n",
    "\n",
    "print(f\"✅ Saved {len(frauds)} fraudulent rows to 'fraudulent_transactions.csv'\")\n"
   ]
  },
  {
   "cell_type": "code",
   "execution_count": null,
   "id": "9b68467a-fc5a-48b1-a22c-c9a72b90241d",
   "metadata": {},
   "outputs": [],
   "source": []
  }
 ],
 "metadata": {
  "kernelspec": {
   "display_name": "Python 3 (ipykernel)",
   "language": "python",
   "name": "python3"
  },
  "language_info": {
   "codemirror_mode": {
    "name": "ipython",
    "version": 3
   },
   "file_extension": ".py",
   "mimetype": "text/x-python",
   "name": "python",
   "nbconvert_exporter": "python",
   "pygments_lexer": "ipython3",
   "version": "3.13.1"
  }
 },
 "nbformat": 4,
 "nbformat_minor": 5
}
